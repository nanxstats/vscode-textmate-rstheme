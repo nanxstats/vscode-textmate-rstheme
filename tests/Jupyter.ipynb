{
  "cells": [
    {
      "attachments": {},
      "cell_type": "markdown",
      "id": "a35eeb9f-df70-4ab1-a243-2d2025888eb0",
      "metadata": {},
      "source": [
        "# Jupyter Notebooks\n",
        "\n",
        "This is a short introduction to two of the flagship tools created by [the Jupyter Community](https://jupyter.org).\n",
        "\n",
        "## JupyterLab 🧪\n",
        "\n",
        "**JupyterLab** is a next-generation web-based user interface for Project Jupyter. It enables you to work with documents and activities such as Jupyter notebooks, text editors, terminals, and custom components in a flexible, integrated, and extensible manner. It is the interface that you're looking at right now.\n",
        "\n",
        "**For an overview of the JupyterLab interface**, see the **JupyterLab Welcome Tour** on this page, by going to `Help -> Welcome Tour` and following the prompts.\n",
        "\n",
        "> **See Also**: For a more in-depth tour of JupyterLab with a full environment that runs in the cloud, see [the JupyterLab introduction on Binder](https://mybinder.org/v2/gh/jupyterlab/jupyterlab-demo/HEAD?urlpath=lab/tree/demo).\n",
        "\n",
        "## Jupyter Notebooks 📓\n",
        "\n",
        "**Jupyter Notebooks** are a community standard for communicating and performing interactive computing. They are a document that blends computations, outputs, explanatory text, mathematics, images, and rich media representations of objects.\n",
        "\n",
        "JupyterLab is one interface used to create and interact with Jupyter Notebooks.\n",
        "\n",
        "**For an overview of Jupyter Notebooks**, see the **JupyterLab Welcome Tour** on this page, by going to `Help -> Notebook Tour` and following the prompts.\n",
        "\n",
        "> **See Also**: For a more in-depth tour of Jupyter Notebooks and the Classic Jupyter Notebook interface, see [the Jupyter Notebook IPython tutorial on Binder](https://mybinder.org/v2/gh/ipython/ipython-in-depth/HEAD?urlpath=tree/binder/Index.ipynb).\n",
        "\n",
        "## An example: visualizing data in the notebook ✨\n",
        "\n",
        "Below is an example of a code cell. We'll visualize some simple data using two popular packages in Python. We'll use [NumPy](https://numpy.org/) to create some random data, and [Matplotlib](https://matplotlib.org) to visualize it.\n",
        "\n",
        "Note how the code and the results of running the code are bundled together."
      ]
    },
    {
      "cell_type": "code",
      "execution_count": null,
      "id": "fe55883a-6887-43dd-9498-5333a51799e2",
      "metadata": {
        "trusted": true
      },
      "outputs": [],
      "source": [
        "from matplotlib import pyplot as plt\n",
        "import numpy as np\n",
        "\n",
        "# Generate 100 random data points along 3 dimensions\n",
        "x, y, scale = np.random.randn(3, 100)\n",
        "fig, ax = plt.subplots()\n",
        "\n",
        "# Map each onto a scatterplot we'll create with Matplotlib\n",
        "ax.scatter(x=x, y=y, c=scale, s=np.abs(scale)*500)\n",
        "ax.set(title=\"Some random data, created with JupyterLab!\")\n",
        "plt.show()"
      ]
    }
  ],
  "metadata": {
    "kernelspec": {
      "display_name": "Python (Pyodide)",
      "language": "python",
      "name": "python"
    },
    "language_info": {
      "codemirror_mode": {
        "name": "python",
        "version": 3
      },
      "file_extension": ".py",
      "mimetype": "text/x-python",
      "name": "python",
      "nbconvert_exporter": "python",
      "pygments_lexer": "ipython3",
      "version": "3.8"
    }
  },
  "nbformat": 4,
  "nbformat_minor": 5
}
